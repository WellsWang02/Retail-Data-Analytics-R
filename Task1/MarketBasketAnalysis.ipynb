{
 "cells": [
  {
   "cell_type": "code",
   "execution_count": 63,
   "metadata": {},
   "outputs": [],
   "source": [
    "# !pip install mlxtend\n",
    "import pandas as pd\n",
    "import numpy as np\n",
    "file_path = '/Users/wells_wang/Desktop/Forage/Quantium-Data_Analytics/'\n",
    "chips = pd.read_csv(file_path+'market_basket_target.csv')"
   ]
  },
  {
   "cell_type": "code",
   "execution_count": 64,
   "metadata": {},
   "outputs": [
    {
     "data": {
      "text/html": [
       "<div>\n",
       "<style scoped>\n",
       "    .dataframe tbody tr th:only-of-type {\n",
       "        vertical-align: middle;\n",
       "    }\n",
       "\n",
       "    .dataframe tbody tr th {\n",
       "        vertical-align: top;\n",
       "    }\n",
       "\n",
       "    .dataframe thead th {\n",
       "        text-align: right;\n",
       "    }\n",
       "</style>\n",
       "<table border=\"1\" class=\"dataframe\">\n",
       "  <thead>\n",
       "    <tr style=\"text-align: right;\">\n",
       "      <th></th>\n",
       "      <th>items</th>\n",
       "    </tr>\n",
       "  </thead>\n",
       "  <tbody>\n",
       "    <tr>\n",
       "      <th>7912</th>\n",
       "      <td>Kettle</td>\n",
       "    </tr>\n",
       "    <tr>\n",
       "      <th>7913</th>\n",
       "      <td>GrnWves</td>\n",
       "    </tr>\n",
       "    <tr>\n",
       "      <th>7914</th>\n",
       "      <td>Twisties</td>\n",
       "    </tr>\n",
       "    <tr>\n",
       "      <th>7915</th>\n",
       "      <td>Kettle</td>\n",
       "    </tr>\n",
       "    <tr>\n",
       "      <th>7916</th>\n",
       "      <td>Smiths</td>\n",
       "    </tr>\n",
       "  </tbody>\n",
       "</table>\n",
       "</div>"
      ],
      "text/plain": [
       "         items\n",
       "7912    Kettle\n",
       "7913   GrnWves\n",
       "7914  Twisties\n",
       "7915    Kettle\n",
       "7916    Smiths"
      ]
     },
     "execution_count": 64,
     "metadata": {},
     "output_type": "execute_result"
    }
   ],
   "source": [
    "chips.tail()"
   ]
  },
  {
   "cell_type": "code",
   "execution_count": 65,
   "metadata": {},
   "outputs": [
    {
     "data": {
      "text/plain": [
       "7917"
      ]
     },
     "execution_count": 65,
     "metadata": {},
     "output_type": "execute_result"
    }
   ],
   "source": [
    "len(chips)"
   ]
  },
  {
   "cell_type": "code",
   "execution_count": 66,
   "metadata": {},
   "outputs": [],
   "source": [
    "transactions = chips['items'].apply(lambda t:t.split(','))\n",
    "transactions = list(transactions)"
   ]
  },
  {
   "cell_type": "code",
   "execution_count": 67,
   "metadata": {},
   "outputs": [
    {
     "data": {
      "text/plain": [
       "['Kettle', 'RRD', 'Infzns']"
      ]
     },
     "execution_count": 67,
     "metadata": {},
     "output_type": "execute_result"
    }
   ],
   "source": [
    "transactions[2]"
   ]
  },
  {
   "cell_type": "code",
   "execution_count": 68,
   "metadata": {},
   "outputs": [
    {
     "data": {
      "text/plain": [
       "4762"
      ]
     },
     "execution_count": 68,
     "metadata": {},
     "output_type": "execute_result"
    }
   ],
   "source": [
    "more = [i for i in transactions if len(i) > 1]\n",
    "# for i in range(0, len(transactions)):\n",
    "#     if len(transactions[i]) >1:\n",
    "#         more.append(transactions[i])\n",
    "len(more)"
   ]
  },
  {
   "cell_type": "code",
   "execution_count": 69,
   "metadata": {},
   "outputs": [
    {
     "name": "stdout",
     "output_type": "stream",
     "text": [
      "      Burger    CCs  Cheetos  Cheezels   Cobs  Doritos  French  GrnWves  \\\n",
      "0      False  False    False     False  False    False   False    False   \n",
      "1      False  False    False     False  False     True   False    False   \n",
      "2      False  False    False     False  False    False   False    False   \n",
      "3      False  False    False     False  False    False   False     True   \n",
      "4      False  False    False     False  False     True   False    False   \n",
      "...      ...    ...      ...       ...    ...      ...     ...      ...   \n",
      "7912   False  False    False     False  False    False   False    False   \n",
      "7913   False  False    False     False  False    False   False     True   \n",
      "7914   False  False    False     False  False    False   False    False   \n",
      "7915   False  False    False     False  False    False   False    False   \n",
      "7916   False  False    False     False  False    False   False    False   \n",
      "\n",
      "      Infzns  Kettle  ...  Pringles    RRD  Smiths  Snbts  Thins  Tostitos  \\\n",
      "0      False   False  ...     False   True   False  False  False     False   \n",
      "1      False   False  ...     False  False   False  False  False     False   \n",
      "2       True    True  ...     False   True   False  False  False     False   \n",
      "3      False   False  ...     False  False    True  False  False     False   \n",
      "4      False   False  ...     False  False   False  False  False     False   \n",
      "...      ...     ...  ...       ...    ...     ...    ...    ...       ...   \n",
      "7912   False    True  ...     False  False   False  False  False     False   \n",
      "7913   False   False  ...     False  False   False  False  False     False   \n",
      "7914   False   False  ...     False  False   False  False  False     False   \n",
      "7915   False    True  ...     False  False   False  False  False     False   \n",
      "7916   False   False  ...     False  False    True  False  False     False   \n",
      "\n",
      "      Twisties  Tyrrells     WW  Woolworths  \n",
      "0        False     False  False       False  \n",
      "1        False     False  False       False  \n",
      "2        False     False  False       False  \n",
      "3        False     False  False       False  \n",
      "4         True      True  False       False  \n",
      "...        ...       ...    ...         ...  \n",
      "7912     False     False  False       False  \n",
      "7913     False     False  False       False  \n",
      "7914      True     False  False       False  \n",
      "7915     False     False  False       False  \n",
      "7916     False     False  False       False  \n",
      "\n",
      "[7917 rows x 21 columns]\n"
     ]
    }
   ],
   "source": [
    "from mlxtend.preprocessing import TransactionEncoder\n",
    "encoder = TransactionEncoder().fit(transactions)\n",
    "onehot = encoder.transform(transactions)\n",
    "onehot = pd.DataFrame(onehot, columns = encoder.columns_)\n",
    "print(onehot)"
   ]
  },
  {
   "cell_type": "code",
   "execution_count": 70,
   "metadata": {},
   "outputs": [
    {
     "name": "stdout",
     "output_type": "stream",
     "text": [
      "Burger        0.007579\n",
      "CCs           0.026652\n",
      "Cheetos       0.020336\n",
      "Cheezels      0.042440\n",
      "Cobs          0.103827\n",
      "Doritos       0.260326\n",
      "French        0.009600\n",
      "GrnWves       0.078818\n",
      "Infzns        0.143110\n",
      "Kettle        0.387142\n",
      "NCC           0.046482\n",
      "Pringles      0.256158\n",
      "RRD           0.093975\n",
      "Smiths        0.202476\n",
      "Snbts         0.015789\n",
      "Thins         0.136036\n",
      "Tostitos      0.105848\n",
      "Twisties      0.107364\n",
      "Tyrrells      0.076165\n",
      "WW            0.048124\n",
      "Woolworths    0.007073\n",
      "dtype: float64\n"
     ]
    }
   ],
   "source": [
    "support = onehot.mean()\n",
    "print(support)"
   ]
  },
  {
   "cell_type": "code",
   "execution_count": 71,
   "metadata": {},
   "outputs": [
    {
     "name": "stdout",
     "output_type": "stream",
     "text": [
      "0.24, 0.24\n"
     ]
    }
   ],
   "source": [
    "supportDP = np.logical_and(onehot['Doritos'], onehot['Pringles']).mean()\n",
    "supportD = onehot['Doritos'].mean()\n",
    "supportP = onehot['Pringles'].mean()\n",
    "\n",
    "confidenceDP = supportDP/supportD\n",
    "confidencePD = supportDP/supportP\n",
    "\n",
    "print('{0:.2f}, {1:.2f}'.format(confidenceDP, confidencePD))"
   ]
  },
  {
   "cell_type": "code",
   "execution_count": 72,
   "metadata": {},
   "outputs": [
    {
     "name": "stdout",
     "output_type": "stream",
     "text": [
      "0.06, 0.24\n"
     ]
    }
   ],
   "source": [
    "print('{0:.2f}, {1:.2f}'.format(supportDP, confidenceDP))"
   ]
  },
  {
   "cell_type": "code",
   "execution_count": 73,
   "metadata": {},
   "outputs": [],
   "source": [
    "from mlxtend.frequent_patterns import apriori, association_rules"
   ]
  },
  {
   "cell_type": "code",
   "execution_count": 74,
   "metadata": {},
   "outputs": [
    {
     "data": {
      "text/plain": [
       "107"
      ]
     },
     "execution_count": 74,
     "metadata": {},
     "output_type": "execute_result"
    }
   ],
   "source": [
    "frequent = apriori(onehot, min_support = 0.01, max_len = 3, use_colnames = True)\n",
    "len(frequent)"
   ]
  },
  {
   "cell_type": "code",
   "execution_count": 75,
   "metadata": {},
   "outputs": [
    {
     "name": "stdout",
     "output_type": "stream",
     "text": [
      "    antecedents         consequents  antecedent support  consequent support  \\\n",
      "11    (Doritos)              (Cobs)            0.260326            0.103827   \n",
      "12     (Infzns)              (Cobs)            0.143110            0.103827   \n",
      "21      (Thins)              (Cobs)            0.136036            0.103827   \n",
      "22   (Tostitos)              (Cobs)            0.105848            0.103827   \n",
      "25   (Twisties)              (Cobs)            0.107364            0.103827   \n",
      "29    (Doritos)            (Infzns)            0.260326            0.143110   \n",
      "41    (Doritos)             (Thins)            0.260326            0.136036   \n",
      "60   (Pringles)            (Infzns)            0.256158            0.143110   \n",
      "62     (Infzns)               (RRD)            0.143110            0.093975   \n",
      "68     (Infzns)          (Tostitos)            0.143110            0.105848   \n",
      "70     (Infzns)          (Twisties)            0.143110            0.107364   \n",
      "94        (RRD)               (NCC)            0.093975            0.046482   \n",
      "102  (Pringles)             (Thins)            0.256158            0.136036   \n",
      "104  (Pringles)          (Tostitos)            0.256158            0.105848   \n",
      "112    (Smiths)               (RRD)            0.202476            0.093975   \n",
      "116  (Tostitos)               (RRD)            0.105848            0.093975   \n",
      "121       (RRD)                (WW)            0.093975            0.048124   \n",
      "135     (Thins)          (Twisties)            0.136036            0.107364   \n",
      "139  (Twisties)          (Tostitos)            0.107364            0.105848   \n",
      "155    (Infzns)   (Kettle, Doritos)            0.143110            0.089933   \n",
      "174    (Smiths)   (Kettle, Doritos)            0.202476            0.089933   \n",
      "179     (Thins)   (Kettle, Doritos)            0.136036            0.089933   \n",
      "210       (RRD)   (Smiths, Doritos)            0.093975            0.051156   \n",
      "216    (Infzns)  (Pringles, Kettle)            0.143110            0.091449   \n",
      "229    (Smiths)  (Pringles, Kettle)            0.202476            0.091449   \n",
      "235     (Thins)  (Pringles, Kettle)            0.136036            0.091449   \n",
      "240  (Tostitos)  (Pringles, Kettle)            0.105848            0.091449   \n",
      "247       (RRD)    (Kettle, Smiths)            0.093975            0.075660   \n",
      "\n",
      "      support  confidence      lift  leverage  conviction  \n",
      "11   0.027030    0.103833  1.000057  0.000002    1.000007  \n",
      "12   0.016041    0.112092  1.079599  0.001183    1.009308  \n",
      "21   0.014652    0.107707  1.037364  0.000528    1.004348  \n",
      "22   0.011115    0.105012  1.011411  0.000125    1.001324  \n",
      "25   0.011747    0.109412  1.053787  0.000600    1.006271  \n",
      "29   0.037388    0.143620  1.003563  0.000133    1.000595  \n",
      "41   0.037388    0.143620  1.055744  0.001974    1.008855  \n",
      "60   0.041051    0.160256  1.119815  0.004392    1.020419  \n",
      "62   0.016547    0.115622  1.230351  0.003098    1.024477  \n",
      "68   0.017178    0.120035  1.134033  0.002030    1.016122  \n",
      "70   0.015410    0.107679  1.002932  0.000045    1.000353  \n",
      "94   0.013136    0.139785  3.007276  0.008768    1.108464  \n",
      "102  0.037388    0.145957  1.072923  0.002541    1.011616  \n",
      "104  0.027283    0.106509  1.006242  0.000169    1.000739  \n",
      "112  0.033346    0.164691  1.752500  0.014318    1.084659  \n",
      "116  0.011115    0.105012  1.117446  0.001168    1.012332  \n",
      "121  0.013136    0.139785  2.904665  0.008614    1.106556  \n",
      "135  0.014652    0.107707  1.003192  0.000047    1.000384  \n",
      "139  0.011494    0.107059  1.011438  0.000130    1.001356  \n",
      "155  0.014526    0.101500  1.128622  0.001655    1.012874  \n",
      "174  0.020336    0.100437  1.116794  0.002127    1.011676  \n",
      "179  0.014147    0.103993  1.156333  0.001913    1.015691  \n",
      "210  0.010736    0.114247  2.233323  0.005929    1.071229  \n",
      "216  0.017178    0.120035  1.312596  0.004091    1.032486  \n",
      "229  0.021220    0.104803  1.146035  0.002704    1.014918  \n",
      "235  0.017052    0.125348  1.370693  0.004612    1.038758  \n",
      "240  0.011621    0.109785  1.200510  0.001941    1.020598  \n",
      "247  0.015031    0.159946  2.114014  0.007921    1.100334  \n"
     ]
    }
   ],
   "source": [
    "rules = association_rules(frequent, metric = 'support', min_threshold = 0.0)\n",
    "rules = rules[rules['antecedent support']>rules['consequent support']]\n",
    "rules = rules[rules['lift']>1]\n",
    "rules = rules[rules['confidence']>0.1]\n",
    "# rules = rules[rules['conviction']>1]\n",
    "print(rules)"
   ]
  },
  {
   "cell_type": "code",
   "execution_count": null,
   "metadata": {},
   "outputs": [],
   "source": []
  }
 ],
 "metadata": {
  "kernelspec": {
   "display_name": "Python 3",
   "language": "python",
   "name": "python3"
  },
  "language_info": {
   "codemirror_mode": {
    "name": "ipython",
    "version": 3
   },
   "file_extension": ".py",
   "mimetype": "text/x-python",
   "name": "python",
   "nbconvert_exporter": "python",
   "pygments_lexer": "ipython3",
   "version": "3.6.10"
  }
 },
 "nbformat": 4,
 "nbformat_minor": 4
}
